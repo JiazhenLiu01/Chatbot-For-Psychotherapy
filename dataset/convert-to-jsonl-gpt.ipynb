{
 "cells": [
  {
   "cell_type": "code",
   "execution_count": 18,
   "id": "4d8700ea-4bb9-458a-8219-73eb632a19f0",
   "metadata": {},
   "outputs": [],
   "source": [
    "import json\n",
    "import os"
   ]
  },
  {
   "cell_type": "code",
   "execution_count": 19,
   "id": "2c418426-2953-4809-b1d9-57cf56593dec",
   "metadata": {},
   "outputs": [],
   "source": [
    "#convert txt to json\n",
    "def convert_to_jsonl(text):\n",
    "    system_content =  \"Your name is Tom and you are now communicating with a psychologist in a therapy session. Answer the following questions as Tom and respond in a casual tone. Each of your replies should be no longer than three sentences.\" # messages\n",
    "    jsonl_data = []\n",
    "    current_content = []\n",
    "    current_role = None\n",
    "    current_messages = []\n",
    "    tokens = 0 \n",
    "    lines = text.split('\\n') \n",
    "    for i, line in enumerate(lines):     \n",
    "        if i + 2 < len(lines):\n",
    "            if line.strip() == '':\n",
    "                continue\n",
    "            parts = line.strip().split(' ', 2)\n",
    "            role = parts[0]\n",
    "            content = parts[-1]\n",
    "\n",
    "            if role == \"S1:\" or role == \"S1\":\n",
    "                current_messages.append({\"role\": \"system\", \"content\": system_content}, ) \n",
    "                current_messages.append({\"role\": \"user\", \"content\": content}, )\n",
    "                parts = lines[i + 2].strip().split(' ', 2)\n",
    "                role = parts[0]\n",
    "                content = parts[-1]\n",
    "                current_messages.append({\"role\": \"assistant\", \"content\": content, \"weight\": 1}, )\n",
    "                \n",
    "                jsonl_data.append({\"messages\": current_messages}) \n",
    "                current_messages = []\n",
    "    print (\"number of message:\", len(jsonl_data ))\n",
    "    return jsonl_data        "
   ]
  },
  {
   "cell_type": "code",
   "execution_count": 20,
   "id": "275ed345-e2bb-4681-beef-f27d07b5700c",
   "metadata": {},
   "outputs": [],
   "source": [
    "folder_name = \"no362\" \n",
    "text = \"\" \n",
    "\n",
    "for filename in os.listdir(folder_name):\n",
    "    if filename.endswith(\".txt\"):\n",
    "        file_path = os.path.join(folder_name, filename)\n",
    "        with open(file_path, \"r\", encoding=\"utf-8\") as file:\n",
    "            text += file.read()"
   ]
  },
  {
   "cell_type": "code",
   "execution_count": 21,
   "id": "efb79a2d-c7b1-4f7b-ab78-381efa23f259",
   "metadata": {},
   "outputs": [],
   "source": [
    "def split_train_test(jsonl_data, train_ratio=0.9):\n",
    "\n",
    "    train_size = int(len(jsonl_data) * train_ratio)\n",
    "    train_data = jsonl_data[:train_size]\n",
    "    test_data = jsonl_data[train_size:]\n",
    "\n",
    "    return train_data, test_data"
   ]
  },
  {
   "cell_type": "code",
   "execution_count": 22,
   "id": "6786b687-8aa6-461e-8add-8f0513710304",
   "metadata": {},
   "outputs": [
    {
     "name": "stdout",
     "output_type": "stream",
     "text": [
      "number of message: 1459\n"
     ]
    }
   ],
   "source": [
    "jsonl_data = convert_to_jsonl(text)\n",
    "train_data, test_data = split_train_test(jsonl_data, train_ratio=0.9)\n",
    "with open(\"SFT_GPT_362_train.jsonl\", \"a\", encoding=\"utf-8\") as file:\n",
    "    for data in train_data:\n",
    "        file.write(json.dumps(data) + \"\\n\")\n",
    "\n",
    "with open(\"SFT_GPT_362_test.jsonl\", \"a\", encoding=\"utf-8\") as file:\n",
    "    for data in test_data:\n",
    "        file.write(json.dumps(data) + \"\\n\")"
   ]
  },
  {
   "cell_type": "code",
   "execution_count": null,
   "id": "4eb2e527-da15-46e2-a9ec-5c965122cd1d",
   "metadata": {},
   "outputs": [],
   "source": []
  }
 ],
 "metadata": {
  "kernelspec": {
   "display_name": "Python 3 (ipykernel)",
   "language": "python",
   "name": "python3"
  },
  "language_info": {
   "codemirror_mode": {
    "name": "ipython",
    "version": 3
   },
   "file_extension": ".py",
   "mimetype": "text/x-python",
   "name": "python",
   "nbconvert_exporter": "python",
   "pygments_lexer": "ipython3",
   "version": "3.9.7"
  },
  "toc": {
   "base_numbering": 1,
   "nav_menu": {
    "height": "424px",
    "width": "191px"
   },
   "number_sections": true,
   "sideBar": true,
   "skip_h1_title": false,
   "title_cell": "Table of Contents",
   "title_sidebar": "Contents",
   "toc_cell": false,
   "toc_position": {
    "height": "752px",
    "left": "40px",
    "top": "317px",
    "width": "298.391px"
   },
   "toc_section_display": true,
   "toc_window_display": true
  }
 },
 "nbformat": 4,
 "nbformat_minor": 5
}
