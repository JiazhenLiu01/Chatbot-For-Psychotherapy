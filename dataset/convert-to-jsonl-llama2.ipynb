{
 "cells": [
  {
   "cell_type": "code",
   "execution_count": 1,
   "id": "17a90974-ef5d-4726-9478-748bc7233aa8",
   "metadata": {},
   "outputs": [],
   "source": [
    "import json\n",
    "import os"
   ]
  },
  {
   "cell_type": "code",
   "execution_count": 2,
   "id": "d9a577bc-81fb-42e3-b517-3b4677a610f8",
   "metadata": {},
   "outputs": [],
   "source": [
    "#convert txt to json\n",
    "def convert_to_jsonl(text):\n",
    "    jsonl_data = []\n",
    "    current_content = []\n",
    "    current_role = None\n",
    "    current_messages = \"\"\n",
    "    lines = text.split('\\n') \n",
    "    for i, line in enumerate(lines):     \n",
    "        if i + 2 < len(lines):\n",
    "            if line.strip() == '':\n",
    "                continue\n",
    "            parts = line.strip().split(' ', 2)\n",
    "            role = parts[0]\n",
    "            content = parts[-1]\n",
    "\n",
    "            if role == \"S1:\" or role == \"S1\":\n",
    "                current_messages = current_messages + \"### Human: \" + content\n",
    "                parts = lines[i + 2].strip().split(' ', 2)\n",
    "                role = parts[0]\n",
    "                content = parts[-1]\n",
    "                current_messages = current_messages + \"### Assistant: \" + content\n",
    "                jsonl_data.append({\"text\": current_messages}) \n",
    "                current_messages = \"\"\n",
    "    print (\"number of message:\", len(jsonl_data ))\n",
    "    return jsonl_data        "
   ]
  },
  {
   "cell_type": "code",
   "execution_count": 3,
   "id": "d44ced32-1838-4168-be29-e3e7cb9a9b0e",
   "metadata": {},
   "outputs": [],
   "source": [
    "folder_name = \"no362\" \n",
    "text = \"\" \n",
    "\n",
    "for filename in os.listdir(folder_name):\n",
    "    if filename.endswith(\".txt\"):\n",
    "        file_path = os.path.join(folder_name, filename)\n",
    "        with open(file_path, \"r\", encoding=\"utf-8\") as file:\n",
    "            text += file.read()"
   ]
  },
  {
   "cell_type": "code",
   "execution_count": 4,
   "id": "27709c28-a3c3-44e3-8538-d5aaa76d7606",
   "metadata": {},
   "outputs": [],
   "source": [
    "def split_train_test(jsonl_data, train_ratio=0.9):\n",
    "\n",
    "    train_size = int(len(jsonl_data) * train_ratio)\n",
    "    train_data = jsonl_data[:train_size]\n",
    "    test_data = jsonl_data[train_size:]\n",
    "\n",
    "    return train_data, test_data"
   ]
  },
  {
   "cell_type": "code",
   "execution_count": 5,
   "id": "89288974-91f1-4e07-bb94-1c8e1ec4f979",
   "metadata": {},
   "outputs": [
    {
     "name": "stdout",
     "output_type": "stream",
     "text": [
      "number of message: 1459\n"
     ]
    }
   ],
   "source": [
    "jsonl_data = convert_to_jsonl(text)\n",
    "train_data, test_data = split_train_test(jsonl_data, train_ratio=0.9)\n",
    "with open(\"SFT_LLAMA_362_oneturn_train.jsonl\", \"a\", encoding=\"utf-8\") as file:\n",
    "    for data in train_data:\n",
    "        file.write(json.dumps(data) + \"\\n\")\n",
    "\n",
    "with open(\"SFT_LLAMA_362_oneturn_test.jsonl\", \"a\", encoding=\"utf-8\") as file:\n",
    "    for data in test_data:\n",
    "        file.write(json.dumps(data) + \"\\n\")"
   ]
  },
  {
   "cell_type": "code",
   "execution_count": null,
   "id": "1a404945-5ab7-4b61-8c27-c90dd3a172d8",
   "metadata": {},
   "outputs": [],
   "source": []
  }
 ],
 "metadata": {
  "kernelspec": {
   "display_name": "Python 3 (ipykernel)",
   "language": "python",
   "name": "python3"
  },
  "language_info": {
   "codemirror_mode": {
    "name": "ipython",
    "version": 3
   },
   "file_extension": ".py",
   "mimetype": "text/x-python",
   "name": "python",
   "nbconvert_exporter": "python",
   "pygments_lexer": "ipython3",
   "version": "3.9.7"
  }
 },
 "nbformat": 4,
 "nbformat_minor": 5
}
