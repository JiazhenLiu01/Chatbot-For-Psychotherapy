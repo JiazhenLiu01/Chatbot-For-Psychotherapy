{
 "cells": [
  {
   "cell_type": "code",
   "execution_count": 1,
   "id": "40ad1562-b37e-4597-8f4a-a0906c300f73",
   "metadata": {},
   "outputs": [
    {
     "ename": "ModuleNotFoundError",
     "evalue": "No module named 'llama_index'",
     "output_type": "error",
     "traceback": [
      "\u001b[1;31m---------------------------------------------------------------------------\u001b[0m",
      "\u001b[1;31mModuleNotFoundError\u001b[0m                       Traceback (most recent call last)",
      "\u001b[1;32mC:\\Users\\HELLO_~1\\AppData\\Local\\Temp/ipykernel_22612/2144652318.py\u001b[0m in \u001b[0;36m<module>\u001b[1;34m\u001b[0m\n\u001b[1;32m----> 1\u001b[1;33m \u001b[1;32mfrom\u001b[0m \u001b[0mllama_index\u001b[0m\u001b[1;33m.\u001b[0m\u001b[0mcore\u001b[0m \u001b[1;32mimport\u001b[0m \u001b[0mVectorStoreIndex\u001b[0m\u001b[1;33m,\u001b[0m\u001b[0mdownload_loader\u001b[0m\u001b[1;33m,\u001b[0m\u001b[0mServiceContext\u001b[0m\u001b[1;33m,\u001b[0m\u001b[0mSimpleDirectoryReader\u001b[0m\u001b[1;33m\u001b[0m\u001b[1;33m\u001b[0m\u001b[0m\n\u001b[0m\u001b[0;32m      2\u001b[0m \u001b[1;32mfrom\u001b[0m \u001b[0mllama_index\u001b[0m\u001b[1;33m.\u001b[0m\u001b[0mvector_stores\u001b[0m\u001b[1;33m.\u001b[0m\u001b[0mchroma\u001b[0m \u001b[1;32mimport\u001b[0m \u001b[0mChromaVectorStore\u001b[0m\u001b[1;33m\u001b[0m\u001b[1;33m\u001b[0m\u001b[0m\n\u001b[0;32m      3\u001b[0m \u001b[1;32mfrom\u001b[0m \u001b[0mllama_index\u001b[0m\u001b[1;33m.\u001b[0m\u001b[0mcore\u001b[0m \u001b[1;32mimport\u001b[0m \u001b[0mStorageContext\u001b[0m\u001b[1;33m\u001b[0m\u001b[1;33m\u001b[0m\u001b[0m\n\u001b[0;32m      4\u001b[0m \u001b[1;32mfrom\u001b[0m \u001b[0mllama_index\u001b[0m\u001b[1;33m.\u001b[0m\u001b[0membeddings\u001b[0m\u001b[1;33m.\u001b[0m\u001b[0mhuggingface\u001b[0m \u001b[1;32mimport\u001b[0m \u001b[0mHuggingFaceEmbedding\u001b[0m\u001b[1;33m\u001b[0m\u001b[1;33m\u001b[0m\u001b[0m\n\u001b[0;32m      5\u001b[0m \u001b[1;32mfrom\u001b[0m \u001b[0mllama_index\u001b[0m\u001b[1;33m.\u001b[0m\u001b[0mcore\u001b[0m\u001b[1;33m.\u001b[0m\u001b[0mresponse\u001b[0m\u001b[1;33m.\u001b[0m\u001b[0mnotebook_utils\u001b[0m \u001b[1;32mimport\u001b[0m \u001b[0mdisplay_response\u001b[0m\u001b[1;33m\u001b[0m\u001b[1;33m\u001b[0m\u001b[0m\n",
      "\u001b[1;31mModuleNotFoundError\u001b[0m: No module named 'llama_index'"
     ]
    }
   ],
   "source": [
    "from llama_index.core import VectorStoreIndex,download_loader,ServiceContext,SimpleDirectoryReader\n",
    "from llama_index.vector_stores.chroma import ChromaVectorStore\n",
    "from llama_index.core import StorageContext\n",
    "from llama_index.embeddings.huggingface import HuggingFaceEmbedding\n",
    "from llama_index.core.response.notebook_utils import display_response\n",
    "import torch\n",
    "from transformers import BitsAndBytesConfig\n",
    "from llama_index.prompts import PromptTemplate\n",
    "from llama_index.llms import HuggingFaceLLM\n",
    "from IPython.display import Markdown, display\n",
    "import chromadb\n",
    "from pathlib import Path\n",
    "import logging\n",
    "import sys"
   ]
  },
  {
   "cell_type": "code",
   "execution_count": 2,
   "id": "dbc1ca3e-ec04-4386-9347-f3c127d01768",
   "metadata": {},
   "outputs": [],
   "source": [
    "import os"
   ]
  },
  {
   "cell_type": "code",
   "execution_count": 3,
   "id": "c56cbd38-e513-4606-bb37-66abbce621ab",
   "metadata": {},
   "outputs": [],
   "source": [
    "#convert txt to json\n",
    "def append_data(text):\n",
    "    data = {\n",
    "    \"prompt\": [],\n",
    "    \"chosen\": [],\n",
    "    \"rejected\": [],}\n",
    "    current_content = []\n",
    "    current_role = None\n",
    "    current_messages = \"\"\n",
    "    lines = text.split('\\n') \n",
    "    modified_line = []\n",
    "    \n",
    "    for i, line in enumerate(lines):     \n",
    "        if i + 2 < len(lines):\n",
    "            if line.strip() == '':\n",
    "                continue\n",
    "            parts = line.strip().split(' ', 2)\n",
    "            role = parts[0]\n",
    "            content = parts[-1]\n",
    "\n",
    "            if role == \"S1:\" or role == \"S1\":\n",
    "                modified_line.append(\" ### Human: \"+ content)\n",
    "                \n",
    "                parts = lines[i + 2].strip().split(' ', 2)\n",
    "                role = parts[0]\n",
    "                content = parts[-1]\n",
    "                modified_line.append(\" ### Assistant: \"+ content)           \n",
    "                current_messages = \"\"\n",
    "    new_file_name = \"RAG_362.txt\"\n",
    "    with open(new_file_name, \"w\", encoding=\"utf-8\") as new_file:\n",
    "        new_file.writelines(modified_line)"
   ]
  },
  {
   "cell_type": "code",
   "execution_count": 4,
   "id": "a858a558-d7d1-4ef7-b6a2-e8e5ff36aa92",
   "metadata": {},
   "outputs": [],
   "source": [
    "folder_name = \"no362\" \n",
    "text = \"\" \n",
    "\n",
    "for filename in os.listdir(folder_name):\n",
    "    if filename.endswith(\".txt\"):\n",
    "        file_path = os.path.join(folder_name, filename)\n",
    "        with open(file_path, \"r\", encoding=\"utf-8\") as file:\n",
    "            text += file.read()"
   ]
  },
  {
   "cell_type": "code",
   "execution_count": 5,
   "id": "dc88edcd-bd44-4536-abab-a6f16c5f084d",
   "metadata": {},
   "outputs": [],
   "source": [
    "data = append_data(text)"
   ]
  },
  {
   "cell_type": "code",
   "execution_count": null,
   "id": "a07552bc-b0ae-4fde-aab1-7b2d4e97a8bb",
   "metadata": {},
   "outputs": [],
   "source": []
  }
 ],
 "metadata": {
  "kernelspec": {
   "display_name": "Python 3 (ipykernel)",
   "language": "python",
   "name": "python3"
  },
  "language_info": {
   "codemirror_mode": {
    "name": "ipython",
    "version": 3
   },
   "file_extension": ".py",
   "mimetype": "text/x-python",
   "name": "python",
   "nbconvert_exporter": "python",
   "pygments_lexer": "ipython3",
   "version": "3.9.7"
  }
 },
 "nbformat": 4,
 "nbformat_minor": 5
}
