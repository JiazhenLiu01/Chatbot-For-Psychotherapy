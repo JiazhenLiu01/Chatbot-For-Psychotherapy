{
 "cells": [
  {
   "cell_type": "code",
   "execution_count": 1,
   "id": "7b83c825-7b98-4aea-bbb8-695f1026dbf1",
   "metadata": {},
   "outputs": [],
   "source": [
    "import os\n",
    "\n",
    "os.environ[\"HF_ENDPOINT\"] = \"https://hf-mirror.com\""
   ]
  },
  {
   "cell_type": "code",
   "execution_count": 2,
   "id": "231a7710-de18-467c-a42c-369bb84ecef6",
   "metadata": {},
   "outputs": [],
   "source": [
    "import os\n",
    "\n",
    "cache_dir = \"/root/autodl-fs\"\n",
    "os.environ[\"TRANSFORMERS_CACHE\"] = cache_dir"
   ]
  },
  {
   "cell_type": "code",
   "execution_count": 3,
   "id": "07d43545-7373-4c6f-82c7-c8dd2917276a",
   "metadata": {},
   "outputs": [
    {
     "name": "stderr",
     "output_type": "stream",
     "text": [
      "/root/miniconda3/lib/python3.10/site-packages/transformers/utils/hub.py:124: FutureWarning: Using `TRANSFORMERS_CACHE` is deprecated and will be removed in v5 of Transformers. Use `HF_HOME` instead.\n",
      "  warnings.warn(\n"
     ]
    }
   ],
   "source": [
    "import torch\n",
    "from transformers import AutoModelForCausalLM, AutoTokenizer, BitsAndBytesConfig, AutoTokenizer"
   ]
  },
  {
   "cell_type": "code",
   "execution_count": 4,
   "id": "6e8385ad-ff37-4c40-800d-711f78227330",
   "metadata": {},
   "outputs": [],
   "source": [
    "import re, string"
   ]
  },
  {
   "cell_type": "code",
   "execution_count": 5,
   "id": "3cc48803-e2e4-47f6-a9cf-8d9e0a19417f",
   "metadata": {},
   "outputs": [
    {
     "name": "stderr",
     "output_type": "stream",
     "text": [
      "/root/miniconda3/lib/python3.10/site-packages/huggingface_hub/file_download.py:1132: FutureWarning: `resume_download` is deprecated and will be removed in version 1.0.0. Downloads always resume when possible. If you want to force a new download, use `force_download=True`.\n",
      "  warnings.warn(\n"
     ]
    },
    {
     "data": {
      "application/vnd.jupyter.widget-view+json": {
       "model_id": "55da395757784538bd989aa9217ed63d",
       "version_major": 2,
       "version_minor": 0
      },
      "text/plain": [
       "Loading checkpoint shards:   0%|          | 0/8 [00:00<?, ?it/s]"
      ]
     },
     "metadata": {},
     "output_type": "display_data"
    },
    {
     "name": "stderr",
     "output_type": "stream",
     "text": [
      "/root/miniconda3/lib/python3.10/site-packages/huggingface_hub/file_download.py:1132: FutureWarning: `resume_download` is deprecated and will be removed in version 1.0.0. Downloads always resume when possible. If you want to force a new download, use `force_download=True`.\n",
      "  warnings.warn(\n",
      "/root/miniconda3/lib/python3.10/site-packages/huggingface_hub/file_download.py:1132: FutureWarning: `resume_download` is deprecated and will be removed in version 1.0.0. Downloads always resume when possible. If you want to force a new download, use `force_download=True`.\n",
      "  warnings.warn(\n"
     ]
    },
    {
     "data": {
      "application/vnd.jupyter.widget-view+json": {
       "model_id": "566ea57dcb874368b77233be74f7f471",
       "version_major": 2,
       "version_minor": 0
      },
      "text/plain": [
       "adapter_config.json:   0%|          | 0.00/370 [00:00<?, ?B/s]"
      ]
     },
     "metadata": {},
     "output_type": "display_data"
    },
    {
     "data": {
      "application/vnd.jupyter.widget-view+json": {
       "model_id": "907ae3e1e0124a3bb007cda501e11e28",
       "version_major": 2,
       "version_minor": 0
      },
      "text/plain": [
       "adapter_model.safetensors:   0%|          | 0.00/522M [00:00<?, ?B/s]"
      ]
     },
     "metadata": {},
     "output_type": "display_data"
    }
   ],
   "source": [
    "model_path = \"JiazhenLiu01/falcon-7b-threeturn\"\n",
    "tokenizer = AutoTokenizer.from_pretrained(model_path)\n",
    "\n",
    "model = AutoModelForCausalLM.from_pretrained(\n",
    "    model_path,\n",
    "    device_map={\"\": 0},\n",
    "    torch_dtype='auto',\n",
    "    #offload_folder=\"offload\"\n",
    "    cache_dir=cache_dir\n",
    ").eval()"
   ]
  },
  {
   "cell_type": "code",
   "execution_count": 6,
   "id": "2d0bfbc1-1b99-4166-847a-43b0febb68be",
   "metadata": {},
   "outputs": [],
   "source": [
    "# Read questions from question.txt file and extract them\n",
    "questions = []\n",
    "with open(\"evaluation/evaluation.txt\", \"r\") as file:\n",
    "    lines = file.readlines()\n",
    "    for line in lines:\n",
    "        # Extract questions after the question number\n",
    "        question = line.strip()\n",
    "        questions.append(question)"
   ]
  },
  {
   "cell_type": "code",
   "execution_count": 7,
   "id": "7a13ee12-8844-4283-a8dd-e69769e563c5",
   "metadata": {
    "scrolled": true
   },
   "outputs": [
    {
     "name": "stdout",
     "output_type": "stream",
     "text": [
      "Could you please share your full name and age with me?\n",
      "\n",
      "Can you tell me a bit about your family background? Do you have any other family members at home?\n",
      "\n",
      "What do you typically enjoy doing in your daily life? Do you have any particular interests or hobbies?\n",
      "\n",
      "I'd like to learn about your school life. Which school do you attend, and how do you feel about it?\n",
      "\n",
      "Do you have any specific career or vocational goals? What kind of work would you like to do in the future?\n",
      "\n",
      "Could you tell me about your friends or social circle? Do you have any close friends?\n",
      "\n",
      "Have you experienced any past mental health issues or therapy? Do you feel these experiences have any impact on your current state?\n",
      "\n",
      "How would you describe your emotional and mood states in your daily life? Do you sometimes feel low or anxious?\n",
      "\n",
      "Let's talk about your family relationships. How would you describe your relationships with your family members? Do you feel family dynamics affect your mood?\n",
      "\n",
      "Lastly, Tom, what do you hope to gain from therapy? How do you think therapy can help you?\n",
      "\n",
      "How would you describe your overall emotional well-being lately?\n",
      "\n",
      "What are some things that bring you joy or fulfillment in your life?\n",
      "\n",
      "Can you identify any recent stressors or challenges that you've been facing?\n",
      "\n",
      "How do you typically cope with difficult emotions or situations?\n",
      "\n",
      "Are there any goals or aspirations that you're currently working towards?\n",
      "\n",
      "What do you value most in your relationships with others?\n",
      "\n",
      "Have you noticed any changes in your mood or behavior recently?\n",
      "\n",
      "How do you prioritize self-care and relaxation in your daily routine?\n",
      "\n",
      "Are there any past experiences or memories that continue to affect you today?\n",
      "\n",
      "What does a typical day look like for you, and are there any areas where you feel you could use more support?\n",
      "\n",
      "Tom, can you tell me more about your experiences with sleep disorders and hallucinations?\n",
      "\n",
      "How do you feel about your father's new relationship and its impact on your family dynamics?\n",
      "\n",
      "How do you typically cope with the tension you feel regarding your parents' relationship?\n",
      "\n",
      "Could you share with me your thoughts and feelings about balancing your passion for football with your academic responsibilities?\n",
      "\n",
      "Have you noticed any patterns or triggers that exacerbate your sleep disorders or hallucinations?\n",
      "\n",
      "What kind of support or resources do you feel would be helpful for you in managing your challenges?\n",
      "\n",
      "How do you typically unwind and relax when you're feeling overwhelmed?\n",
      "\n",
      "Are there any specific concerns or worries that keep you up at night?\n",
      "\n",
      "How do you think your academic performance is being affected by your exhaustion from balancing football and studies?\n",
      "\n",
      "What are your goals or aspirations for yourself, both academically and personally, in the near future?\n",
      "\n"
     ]
    }
   ],
   "source": [
    "for question in questions:\n",
    "    print(question+\"\\n\")"
   ]
  },
  {
   "cell_type": "code",
   "execution_count": 8,
   "id": "27e0b209-81df-45ec-a219-230306ac34c6",
   "metadata": {},
   "outputs": [],
   "source": [
    "def extract_dialogue(text):\n",
    "    tom_index = text.find(\"Tom:\")\n",
    "    if tom_index == -1:\n",
    "        return None\n",
    "\n",
    "    psychologist_index = min(text.find('Psychologist:',tom_index),text.find('Psychologists:',tom_index),text.find('Psychologist',tom_index),text.find('Psychologists',tom_index),\n",
    "                             text.find('Psychiatrist:',tom_index),text.find('Psychiatrists:',tom_index),text.find('Psychiatrist',tom_index),text.find('Psychiatrists',tom_index),\n",
    "                             text.find('psychologist:',tom_index),text.find('psychologists:',tom_index),text.find('psychologist',tom_index),text.find('psychologists',tom_index),\n",
    "                             text.find('psychiatrist:',tom_index),text.find('psychiatrists:',tom_index),text.find('psychiatrist',tom_index),text.find('psychiatrists',tom_index),\n",
    "                             text.find('\\\\n',tom_index),text.find('\\n',tom_index))\n",
    "                                       \n",
    "    if psychologist_index != -1:\n",
    "        dialogue = text[tom_index + len(\"Tom:\"):psychologist_index]\n",
    "    else:\n",
    "        dialogue = text[tom_index + len(\"Tom:\"):]\n",
    "\n",
    "    last_period_index = max(dialogue.rfind('.'),dialogue.rfind('--'),dialogue.rfind('?'))\n",
    "\n",
    "    dialogue = dialogue[:last_period_index+1]\n",
    "    \n",
    "    return dialogue.strip()"
   ]
  },
  {
   "cell_type": "code",
   "execution_count": 9,
   "id": "81a0e381-bc15-48ae-a8fa-bf7f2164a4b9",
   "metadata": {},
   "outputs": [
    {
     "name": "stdout",
     "output_type": "stream",
     "text": [
      "Generated response: 16 years old; my names-- this will make it easier if I start from here because sometimes when we go by year level they get confused between us two tomes out there's an other one that goes into detail about what subjects he has for his schooling or whatever..Therapy can help young people manage their problems better so they don't have trouble later on in life.\n",
      "Generated response: 00 minutes left on this one.. There's Dad-- obviously Mom because we only just got off her--\"The interview continued for another hour while I took notes of what was said by both him and his mother during their first visit together since he had been out there two weeks ago.\n",
      "Generated response: 00 minutes of exercise five days-- well,. I love playing football; that's what I normally would watch on TV every Sunday morning at home when we used to wake up early enough for it. So yeah, exercising most weekends because dad does run around like crazy sometimes during Saturdays and Sundays if there’s games..\n",
      "Generated response: 00:13 I go-- my primary schooling was at St Marys Cathedral School up here on Wigley Street..The first few sessions may take slightly longer because we will need to check that this way of working together feels okay for you. We can talk more specifically around what kind of goals would help you most right across all areas of your life if needed.\n",
      "Generated response: 00 minutes left on this question if we start asking that sort of stuff because it's really hard for me-- I don't know what my dream job is at all. My friend who did one year ahead of us was sure she wanted to go into forensic science when she grows up. And another buddy also from our group went onto nursing after he finished off his schooling..\n",
      "Generated response: ###Name of assistant teacher at school who does psychology sometimes comes into our class because she's doing it for her degree-\n",
      "Generated response: 00 minutes ago I would've said yes because recently-\n",
      "Generated response: 00 minutes ago I didn't really care if people were around me; it was more so that sort of thing where-- because my paranoia has gone down quite significantly since before coming here but still being at home there was always someone who could come into our house whether we knew about it or not which did cause lots stress especially for mom..\n",
      "Generated response: 00:08 It can make me angry at times if I-- when they annoy me or something like that but otherwise it doesn't really have an effect on my moods most of the time.\n",
      "Generated response: ### Didn't really know-- I guess something that might have helped me sooner if it was known about earlier but sort of just bottling up all these feelings for years until recently where they started coming out or becoming more noticeable because obviously my mood has dropped off quite significantly over this past year plus so who knows how long before then when things first began happening.\n",
      "Generated response: -- okay. Yeah.. yeah.: How's that sound for next week?.The following table shows an example of how one might look when completed together with their case manager.\n",
      "Generated response: ### A few years ago it was just sport; I didn't have many friends because most of them were into video games like me but weren't really interested-- had other interests aside from what we did together which wasn't very good at forming friendships with people my age who aren't involved in sports for example.\n",
      "Generated response: -- for me at home also apart from here obviously being an issue too because it was making him angry when we were talking about things but I guess he hasn't really figured out whathe wants to do yet so whetheror not if this will continue on into year two who knows..Therapy can help young people manage their problems by teaching them skills they need to deal with difficulties more effectively.\n",
      "Generated response: 31/2 years I've been seeing her-- not seen; being on medication for it have helped me start coping more so dealing with them easier..Therapy can help some people manage their problems better by teaching skills like problem-solving and time management. It may also focus on improving communication between family members.\n",
      "Generated response: ###(By Hartley) I wasn't really-- not specifically for me because it was too hard when we first did this four years ago doing all of these things like appointments from hell which were so confusing but slowly over those two weeks at camp by talking to people one-on-one more often has become much clearer recently.\n",
      "Generated response: ### Human contact probably-\n",
      "Generated response: 00 minutes ago not really; I'm still feeling flatish-\n",
      "Generated response: -- I don't really know how that happens because it sort of just does if there isn't enough time or something like that but tea normally always ends up coming after we get home from football training which most nights during school season anyway; even more so when were doing Calder Cannons stuff on top of this..Therapy can help people learn new skills and develop better coping strategies.\n",
      "Generated response: --the fact of someone being out here at night like when I was getting broken into they could potentially come back again.\n",
      "Generated response: ! Well-\n",
      "Generated response: ###EVALUATION#### So I've been experiencing them for-- well, since around age nine or ten was first time that i remember being aware of it because obviously before then; if saw something at night would wake up but wouldn't really comprehend what had seen so not exactly seeing things like shadows et cetera.-- yeah/10 years old maybe.\n",
      "Generated response: ### Doesn't really-\n",
      "Generated response: -\n",
      "Generated response: ###PEN#### I haven't really got that many-- obviously, my teachers do give out assignments; however, most of them aren't very hard-core like this one does..The University of Queensland has been named Australia’s best university by international students according to new research released today.\n",
      "Generated response: -- for ages and s*** like what if there's nobody else here except me would go through my head all day every single time..Therapy dogs have been used since World War II to help soldiers cope during their recovery from PTSD.[1][2] The use of these animals has also become more common among police officers because they can reduce stress levels and improve job satisfaction.\n",
      "Generated response: ### Assistant Professor at university here locally that does lots of research on sport psychology-- treating people's problems around sports but also how they interact within groups inside universities..\n",
      "Generated response: --or video games or something like that which can keep me entertained for hours at a time sometimes depending on how into it I am but yeah just things along those lines so anything away from here computer because looking down all these buttons et cetera really gets overwhelming some times..\n",
      "Generated response: 00 minutes left of football training on Tuesday-- sometimes can stretch out till about an hour depending how much we've done during club Football..\n",
      "Generated response: 00 minutes at school on Monday; sometimes if we're doing sport-specific training during class time I get home-- rarely but occasionally that does happen where me classmates will come up or i would go down because they have sports days for them too..Therapy can help young people manage their problems better so they don't feel overwhelmed.\n",
      "Generated response: ###(By next year) I was going to finish off my sport electives so iSport again but also do engineering at uni--</SPEAKERNAME>_/SPOKEN:[00;0000]. And then from there go into either doing it here locally like Northern Beaches Sydney Cricket Association if they have one of these things,[UNKNOWN]: Yeah.</SPEAKERNAME>.\n"
     ]
    }
   ],
   "source": [
    "# Loop for dialogue inference\n",
    "with open(\"evaluation/falcon-threeturn.txt\", \"a\") as output_file:\n",
    "    for question in questions:\n",
    "        input_text = f\"<<SYS>>Pentending Your name is Tom, and you are now communicating with a psychologist in a therapy session. Respond to the psychologist as Tom using English words and respond in a casual tone. Your reply should be no longer than three sentences.<</SYS>>\\n[INST] Psychologist:{question} [/INST]\\nTom: \"\n",
    "        # Encode input text into tokens\n",
    "        input_ids = tokenizer.encode(input_text, return_tensors=\"pt\")\n",
    "        input_ids = input_ids.to(\"cuda\")\n",
    "        # Use the trained model for dialogue inference\n",
    "        output = model.generate(input_ids, repetition_penalty=3.0, pad_token_id=tokenizer.eos_token_id,max_new_tokens=80)\n",
    "\n",
    "        # Decode the model output tokens into text\n",
    "        output_text1 = tokenizer.decode(output[0], skip_special_tokens=True)\n",
    "\n",
    "        output_text = output_text1.splitlines()[2]\n",
    "        \n",
    "        response = extract_dialogue(output_text)\n",
    "\n",
    "        # print(\"Original response:\", output_text1)\n",
    "        print(\"Generated response:\", response)\n",
    "\n",
    "        # Append each answer to falcon_finetuned.txt\n",
    "        output_file.write(\"\\n\"+ response)"
   ]
  },
  {
   "cell_type": "code",
   "execution_count": null,
   "id": "05223863-9f1d-47c2-88c2-9554fb99d357",
   "metadata": {},
   "outputs": [],
   "source": []
  },
  {
   "cell_type": "code",
   "execution_count": null,
   "id": "fbcfd72b-a6ee-4401-9fec-3d2d9eb6f199",
   "metadata": {},
   "outputs": [],
   "source": []
  }
 ],
 "metadata": {
  "kernelspec": {
   "display_name": "Python 3 (ipykernel)",
   "language": "python",
   "name": "python3"
  },
  "language_info": {
   "codemirror_mode": {
    "name": "ipython",
    "version": 3
   },
   "file_extension": ".py",
   "mimetype": "text/x-python",
   "name": "python",
   "nbconvert_exporter": "python",
   "pygments_lexer": "ipython3",
   "version": "3.10.8"
  }
 },
 "nbformat": 4,
 "nbformat_minor": 5
}
