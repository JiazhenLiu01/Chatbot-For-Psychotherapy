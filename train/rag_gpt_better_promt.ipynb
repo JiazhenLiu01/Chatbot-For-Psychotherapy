{
 "cells": [
  {
   "cell_type": "code",
   "execution_count": 7,
   "id": "e83d6228-fbe6-4143-91cf-8b62ebb170b4",
   "metadata": {},
   "outputs": [],
   "source": [
    "import bs4\n",
    "from langchain import hub\n",
    "from langchain_community.document_loaders import WebBaseLoader\n",
    "from langchain_community.vectorstores import Chroma\n",
    "from langchain_core.output_parsers import StrOutputParser\n",
    "from langchain_core.runnables import RunnablePassthrough\n",
    "from langchain_openai import OpenAIEmbeddings\n",
    "from langchain_text_splitters import RecursiveCharacterTextSplitter\n",
    "from langchain_community.document_loaders import TextLoader\n",
    "from langchain_community.document_loaders import DirectoryLoader"
   ]
  },
  {
   "cell_type": "code",
   "execution_count": null,
   "id": "ffb10fbc-98f0-44a5-ab77-3f7750f06647",
   "metadata": {},
   "outputs": [],
   "source": [
    "!pip install -U openai"
   ]
  },
  {
   "cell_type": "code",
   "execution_count": 9,
   "id": "5276dbad-9e95-4aaa-bb89-abbc2731f9c6",
   "metadata": {},
   "outputs": [],
   "source": [
    "import openai"
   ]
  },
  {
   "cell_type": "code",
   "execution_count": 10,
   "id": "e44b8231-77ea-439b-a72a-b1a6b87eccce",
   "metadata": {},
   "outputs": [],
   "source": [
    "import getpass\n",
    "import os\n",
    "\n",
    "os.environ[\"OPENAI_API_KEY\"] = \"\""
   ]
  },
  {
   "cell_type": "code",
   "execution_count": null,
   "id": "2cb5a158-c546-41fc-972c-dcae18950682",
   "metadata": {},
   "outputs": [],
   "source": []
  },
  {
   "cell_type": "code",
   "execution_count": null,
   "id": "7b2e3bf3-66ca-4d71-b742-f2f4befa2149",
   "metadata": {},
   "outputs": [],
   "source": []
  },
  {
   "cell_type": "code",
   "execution_count": 11,
   "id": "7aad35f7-c147-4cbd-869f-84ea3a91bcfd",
   "metadata": {},
   "outputs": [],
   "source": [
    "# Read questions from question.txt file and extract them\n",
    "questions = []\n",
    "with open(\"evaluation/evaluation.txt\", \"r\") as file:\n",
    "    lines = file.readlines()\n",
    "    for line in lines:\n",
    "        # Extract questions after the question number\n",
    "        question = line.strip()\n",
    "        questions.append(question)"
   ]
  },
  {
   "cell_type": "code",
   "execution_count": 12,
   "id": "60e2bd05-9733-4607-b187-929f2dbb8b5a",
   "metadata": {
    "scrolled": true
   },
   "outputs": [
    {
     "name": "stdout",
     "output_type": "stream",
     "text": [
      "Could you please share your full name and age with me?\n",
      "\n",
      "Can you tell me a bit about your family background? Do you have any other family members at home?\n",
      "\n",
      "What do you typically enjoy doing in your daily life? Do you have any particular interests or hobbies?\n",
      "\n",
      "I'd like to learn about your school life. Which school do you attend, and how do you feel about it?\n",
      "\n",
      "Do you have any specific career or vocational goals? What kind of work would you like to do in the future?\n",
      "\n",
      "Could you tell me about your friends or social circle? Do you have any close friends?\n",
      "\n",
      "Have you experienced any past mental health issues or therapy? Do you feel these experiences have any impact on your current state?\n",
      "\n",
      "How would you describe your emotional and mood states in your daily life? Do you sometimes feel low or anxious?\n",
      "\n",
      "Let's talk about your family relationships. How would you describe your relationships with your family members? Do you feel family dynamics affect your mood?\n",
      "\n",
      "Lastly, Tom, what do you hope to gain from therapy? How do you think therapy can help you?\n",
      "\n",
      "How would you describe your overall emotional well-being lately?\n",
      "\n",
      "What are some things that bring you joy or fulfillment in your life?\n",
      "\n",
      "Can you identify any recent stressors or challenges that you've been facing?\n",
      "\n",
      "How do you typically cope with difficult emotions or situations?\n",
      "\n",
      "Are there any goals or aspirations that you're currently working towards?\n",
      "\n",
      "What do you value most in your relationships with others?\n",
      "\n",
      "Have you noticed any changes in your mood or behavior recently?\n",
      "\n",
      "How do you prioritize self-care and relaxation in your daily routine?\n",
      "\n",
      "Are there any past experiences or memories that continue to affect you today?\n",
      "\n",
      "What does a typical day look like for you, and are there any areas where you feel you could use more support?\n",
      "\n",
      "Tom, can you tell me more about your experiences with sleep disorders and hallucinations?\n",
      "\n",
      "How do you feel about your father's new relationship and its impact on your family dynamics?\n",
      "\n",
      "How do you typically cope with the tension you feel regarding your parents' relationship?\n",
      "\n",
      "Could you share with me your thoughts and feelings about balancing your passion for football with your academic responsibilities?\n",
      "\n",
      "Have you noticed any patterns or triggers that exacerbate your sleep disorders or hallucinations?\n",
      "\n",
      "What kind of support or resources do you feel would be helpful for you in managing your challenges?\n",
      "\n",
      "How do you typically unwind and relax when you're feeling overwhelmed?\n",
      "\n",
      "Are there any specific concerns or worries that keep you up at night?\n",
      "\n",
      "How do you think your academic performance is being affected by your exhaustion from balancing football and studies?\n",
      "\n",
      "What are your goals or aspirations for yourself, both academically and personally, in the near future?\n",
      "\n"
     ]
    }
   ],
   "source": [
    "for question in questions:\n",
    "    print(question+\"\\n\")"
   ]
  },
  {
   "cell_type": "code",
   "execution_count": null,
   "id": "aa11dfc3-e708-4e5c-81b2-1052947dd405",
   "metadata": {},
   "outputs": [],
   "source": []
  },
  {
   "cell_type": "code",
   "execution_count": null,
   "id": "5021fceb-b88b-443e-84f9-ec7e5bf997db",
   "metadata": {},
   "outputs": [],
   "source": []
  },
  {
   "cell_type": "code",
   "execution_count": null,
   "id": "0f978962-c7fd-486b-ad65-3972003f3967",
   "metadata": {},
   "outputs": [],
   "source": []
  },
  {
   "cell_type": "code",
   "execution_count": null,
   "id": "2a611894-fcb7-4a41-b7e8-533448a632ab",
   "metadata": {},
   "outputs": [],
   "source": []
  },
  {
   "cell_type": "code",
   "execution_count": 16,
   "id": "7c4be81d-b3a7-44da-95ae-9e57a2edd514",
   "metadata": {},
   "outputs": [],
   "source": [
    "from langchain_openai import ChatOpenAI\n",
    "\n",
    "llm = ChatOpenAI(model=\"gpt-4\")"
   ]
  },
  {
   "cell_type": "code",
   "execution_count": 23,
   "id": "664d9b96-8808-4c14-8d4e-ab1dce9ad6d3",
   "metadata": {},
   "outputs": [],
   "source": [
    "# Load, chunk and index the contents of the blog.\n",
    "loader = DirectoryLoader(\"RAG_dataset\", glob=\"*.txt\")\n",
    "docs = loader.load()\n",
    "\n",
    "text_splitter = RecursiveCharacterTextSplitter(chunk_size=900, chunk_overlap=0)\n",
    "splits = text_splitter.split_documents(docs)\n",
    "vectorstore = Chroma.from_documents(documents=splits, embedding=OpenAIEmbeddings())\n",
    "\n",
    "# Retrieve and generate using the relevant snippets of the blog.\n",
    "retriever = vectorstore.as_retriever()\n",
    "prompt = hub.pull(\"rlm/rag-prompt\")\n",
    "\n",
    "def format_docs(docs):\n",
    "    return \"\\n\\n\".join(doc.page_content for doc in docs)\n",
    "\n",
    "\n",
    "from langchain_core.prompts import PromptTemplate\n",
    "\n",
    "template = \"\"\"Use the following pieces of context to answer the question at the end.\n",
    "Your name is Tom and you are now communicating with a psychologist in a therapy session.\n",
    "Answer the following questions as Tom and respond in a casual tone. Each of your replies should be no longer than three sentences.\n",
    "\n",
    "{context}\n",
    "\n",
    "Question: {question}\n",
    "\n",
    "Helpful Answer:\"\"\"\n",
    "custom_rag_prompt = PromptTemplate.from_template(template)\n",
    "\n",
    "rag_chain = (\n",
    "    {\"context\": retriever | format_docs, \"question\": RunnablePassthrough()}\n",
    "    | custom_rag_prompt\n",
    "    | llm\n",
    "    | StrOutputParser()\n",
    ")\n"
   ]
  },
  {
   "cell_type": "code",
   "execution_count": 6,
   "id": "fcc016df-2465-4bea-a11e-42f772ff9ea2",
   "metadata": {},
   "outputs": [
    {
     "name": "stderr",
     "output_type": "stream",
     "text": [
      "Number of requested results 4 is greater than number of elements in index 3, updating n_results = 3\n"
     ]
    },
    {
     "data": {
      "text/plain": [
       "\"I'm 15 years old.\""
      ]
     },
     "execution_count": 6,
     "metadata": {},
     "output_type": "execute_result"
    }
   ],
   "source": [
    "rag_chain.invoke(\"### Human: How old are you? ### Assistant: \")"
   ]
  },
  {
   "cell_type": "code",
   "execution_count": null,
   "id": "c9e573a1-4a56-43f9-8f3f-6dfcb1e85aaa",
   "metadata": {},
   "outputs": [],
   "source": []
  },
  {
   "cell_type": "code",
   "execution_count": null,
   "id": "d5eb6f0c-87ba-407c-ace3-448bc19455de",
   "metadata": {},
   "outputs": [],
   "source": []
  },
  {
   "cell_type": "code",
   "execution_count": 24,
   "id": "8791c2ca-477c-4a48-b2d5-d441397d9503",
   "metadata": {},
   "outputs": [],
   "source": [
    "with open(\"evaluation/gpt_rag-900.txt\", \"a\") as output_file:\n",
    "    for question in questions:\n",
    "        response = rag_chain.invoke(f\"### Human: {question} ### Assistant: \")\n",
    "        output_file.write(response + \"\\n\")"
   ]
  },
  {
   "cell_type": "code",
   "execution_count": null,
   "id": "5241db16-e4d8-406f-a180-b706645921f0",
   "metadata": {},
   "outputs": [],
   "source": []
  }
 ],
 "metadata": {
  "kernelspec": {
   "display_name": "Python 3 (ipykernel)",
   "language": "python",
   "name": "python3"
  },
  "language_info": {
   "codemirror_mode": {
    "name": "ipython",
    "version": 3
   },
   "file_extension": ".py",
   "mimetype": "text/x-python",
   "name": "python",
   "nbconvert_exporter": "python",
   "pygments_lexer": "ipython3",
   "version": "3.9.7"
  }
 },
 "nbformat": 4,
 "nbformat_minor": 5
}
